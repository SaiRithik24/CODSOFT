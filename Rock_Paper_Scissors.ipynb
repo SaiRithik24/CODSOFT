{
  "nbformat": 4,
  "nbformat_minor": 0,
  "metadata": {
    "colab": {
      "provenance": [],
      "authorship_tag": "ABX9TyP3rqFdOIFGB9PVL7IT9/Jj",
      "include_colab_link": true
    },
    "kernelspec": {
      "name": "python3",
      "display_name": "Python 3"
    },
    "language_info": {
      "name": "python"
    }
  },
  "cells": [
    {
      "cell_type": "markdown",
      "metadata": {
        "id": "view-in-github",
        "colab_type": "text"
      },
      "source": [
        "<a href=\"https://colab.research.google.com/github/SaiRithik24/CODSOFT/blob/main/Rock_Paper_Scissors.ipynb\" target=\"_parent\"><img src=\"https://colab.research.google.com/assets/colab-badge.svg\" alt=\"Open In Colab\"/></a>"
      ]
    },
    {
      "cell_type": "code",
      "execution_count": null,
      "metadata": {
        "colab": {
          "base_uri": "https://localhost:8080/"
        },
        "id": "fgieCOvkkkdG",
        "outputId": "4a0d0809-2d69-4f09-928f-840448f80c49"
      },
      "outputs": [
        {
          "output_type": "stream",
          "name": "stdout",
          "text": [
            "Enter rock, paper, or scissors (or 'quit' to exit): rock\n",
            "Computer chose paper\n",
            "You Lose\n",
            "\n",
            "Enter rock, paper, or scissors (or 'quit' to exit): paper\n",
            "Computer chose scissors\n",
            "You Lose\n",
            "\n",
            "Enter rock, paper, or scissors (or 'quit' to exit): paper\n",
            "Computer chose paper\n",
            "It's a tie!\n",
            "\n",
            "Enter rock, paper, or scissors (or 'quit' to exit): scissors\n",
            "Computer chose paper\n",
            "You Win\n",
            "\n"
          ]
        }
      ],
      "source": [
        "import random\n",
        "choices=[\"rock\",\"paper\",\"scissors\"]\n",
        "while True:\n",
        "  player_choice=input(\"Enter rock, paper, or scissors (or 'quit' to exit): \").lower()\n",
        "  if player_choice==\"quit\":\n",
        "    break\n",
        "  elif player_choice not in choices:\n",
        "    print(\"Invalid choice. Please try again.\")\n",
        "    continue\n",
        "  computer_choice=random.choice(choices)\n",
        "  print(f\"Computer chose {computer_choice}\")\n",
        "  if player_choice==computer_choice:\n",
        "    print(\"It's a tie!\")\n",
        "  elif(player_choice == \"rock\" and computer_choice == \"scissors\") or \\\n",
        "      (player_choice == \"paper\" and computer_choice == \"rock\") or \\\n",
        "      (player_choice == \"scissors\" and computer_choice == \"paper\"):\n",
        "    print(\"You Win\")\n",
        "  else:\n",
        "    print(\"You Lose\")\n",
        "  print()"
      ]
    },
    {
      "cell_type": "code",
      "source": [],
      "metadata": {
        "id": "S0Y9e3C5lsp9"
      },
      "execution_count": null,
      "outputs": []
    }
  ]
}