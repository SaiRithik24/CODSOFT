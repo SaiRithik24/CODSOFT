{
  "nbformat": 4,
  "nbformat_minor": 0,
  "metadata": {
    "colab": {
      "provenance": [],
      "authorship_tag": "ABX9TyN5lXXCRMqBdrC19LpA0XFu",
      "include_colab_link": true
    },
    "kernelspec": {
      "name": "python3",
      "display_name": "Python 3"
    },
    "language_info": {
      "name": "python"
    }
  },
  "cells": [
    {
      "cell_type": "markdown",
      "metadata": {
        "id": "view-in-github",
        "colab_type": "text"
      },
      "source": [
        "<a href=\"https://colab.research.google.com/github/SaiRithik24/CODSOFT/blob/main/Password_Generator.ipynb\" target=\"_parent\"><img src=\"https://colab.research.google.com/assets/colab-badge.svg\" alt=\"Open In Colab\"/></a>"
      ]
    },
    {
      "cell_type": "code",
      "execution_count": 1,
      "metadata": {
        "colab": {
          "base_uri": "https://localhost:8080/"
        },
        "id": "Vm7E4jRaifK2",
        "outputId": "3cb3f1e0-a2ef-4683-d8fd-31d988c7a64a"
      },
      "outputs": [
        {
          "output_type": "stream",
          "name": "stdout",
          "text": [
            "enter the length of the password:10\n",
            "generated password: 7^AjA(ln)f\n"
          ]
        }
      ],
      "source": [
        "import random\n",
        "import string\n",
        "def generate_password(length=12):\n",
        "  characters=string.ascii_letters+string.digits+string.punctuation\n",
        "  password=''.join(random.choice(characters)for _ in range(length))\n",
        "  return password\n",
        "password_length=int(input(\"enter the length of the password:\"))\n",
        "generated_password=generate_password(password_length)\n",
        "print(\"generated password:\",generated_password)"
      ]
    },
    {
      "cell_type": "code",
      "source": [],
      "metadata": {
        "id": "cy_HZxLxjlJo"
      },
      "execution_count": null,
      "outputs": []
    }
  ]
}