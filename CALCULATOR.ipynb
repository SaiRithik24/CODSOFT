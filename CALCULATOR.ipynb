{
  "nbformat": 4,
  "nbformat_minor": 0,
  "metadata": {
    "colab": {
      "provenance": [],
      "authorship_tag": "ABX9TyORWi4Em3h/YdY5dL6ydvHH",
      "include_colab_link": true
    },
    "kernelspec": {
      "name": "python3",
      "display_name": "Python 3"
    },
    "language_info": {
      "name": "python"
    }
  },
  "cells": [
    {
      "cell_type": "markdown",
      "metadata": {
        "id": "view-in-github",
        "colab_type": "text"
      },
      "source": [
        "<a href=\"https://colab.research.google.com/github/SaiRithik24/CODSOFT/blob/main/CALCULATOR.ipynb\" target=\"_parent\"><img src=\"https://colab.research.google.com/assets/colab-badge.svg\" alt=\"Open In Colab\"/></a>"
      ]
    },
    {
      "cell_type": "code",
      "execution_count": null,
      "metadata": {
        "id": "1Q0eQmkRcG_B",
        "colab": {
          "base_uri": "https://localhost:8080/"
        },
        "outputId": "0186ff33-2085-4834-fe56-70e2c67cc644"
      },
      "outputs": [
        {
          "output_type": "stream",
          "name": "stdout",
          "text": [
            "Enter first number: 5\n",
            "Enter second number: 9\n",
            "Enter operator (+, -, *, /): /\n",
            "5.0 / 9.0 = 0.5555555555555556\n",
            "Do you want to continue calculating? (y/n): y\n",
            "Enter first number: 10\n",
            "Enter second number: 15\n",
            "Enter operator (+, -, *, /): *\n",
            "10.0 * 15.0 = 150.0\n"
          ]
        }
      ],
      "source": [
        "def calculator():\n",
        "  while True:\n",
        "    try:\n",
        "      num1 = float(input(\"Enter first number: \"))\n",
        "      num2 = float(input(\"Enter second number: \"))\n",
        "      operator = input(\"Enter operator (+, -, *, /): \")\n",
        "      if operator == \"+\":\n",
        "        result = num1 + num2\n",
        "      elif operator == \"-\":\n",
        "        result = num1 - num2\n",
        "      elif operator == \"*\":\n",
        "        result = num1 * num2\n",
        "      elif operator == \"/\":\n",
        "        if num2 == 0:\n",
        "          print(\"Error: Division by zero\")\n",
        "          continue\n",
        "        else:\n",
        "          result = num1 / num2\n",
        "      else:\n",
        "        print(\"Error: Invalid operator\")\n",
        "        continue\n",
        "      print(f\"{num1} {operator} {num2} =\", result)\n",
        "    except ValueError:\n",
        "      print(\"Error: Invalid input\")\n",
        "    continue_calc = input(\"Do you want to continue calculating? (y/n): \")\n",
        "    if continue_calc.lower() != \"y\":\n",
        "      break\n",
        "calculator()\n",
        ""
      ]
    },
    {
      "cell_type": "code",
      "source": [],
      "metadata": {
        "id": "tp_Eba3tfQJ-"
      },
      "execution_count": null,
      "outputs": []
    }
  ]
}